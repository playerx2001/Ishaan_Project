{
 "cells": [
  {
   "cell_type": "code",
   "execution_count": 13,
   "id": "f7d7f078",
   "metadata": {},
   "outputs": [
    {
     "name": "stdout",
     "output_type": "stream",
     "text": [
      "Requirement already satisfied: streamlit in c:\\users\\bhagr\\anaconda3\\lib\\site-packages (1.16.0)\n",
      "Requirement already satisfied: blinker>=1.0.0 in c:\\users\\bhagr\\anaconda3\\lib\\site-packages (from streamlit) (1.5)\n",
      "Requirement already satisfied: watchdog in c:\\users\\bhagr\\anaconda3\\lib\\site-packages (from streamlit) (1.0.2)\n",
      "Requirement already satisfied: validators>=0.2 in c:\\users\\bhagr\\anaconda3\\lib\\site-packages (from streamlit) (0.20.0)\n",
      "Requirement already satisfied: click>=7.0 in c:\\users\\bhagr\\anaconda3\\lib\\site-packages (from streamlit) (7.1.2)\n",
      "Requirement already satisfied: toml in c:\\users\\bhagr\\anaconda3\\lib\\site-packages (from streamlit) (0.10.2)\n",
      "Requirement already satisfied: tornado>=5.0 in c:\\users\\bhagr\\anaconda3\\lib\\site-packages (from streamlit) (6.1)\n",
      "Requirement already satisfied: pillow>=6.2.0 in c:\\users\\bhagr\\anaconda3\\lib\\site-packages (from streamlit) (8.2.0)\n",
      "Requirement already satisfied: importlib-metadata>=1.4 in c:\\users\\bhagr\\anaconda3\\lib\\site-packages (from streamlit) (3.10.0)\n",
      "Requirement already satisfied: altair>=3.2.0 in c:\\users\\bhagr\\anaconda3\\lib\\site-packages (from streamlit) (4.2.0)\n",
      "Requirement already satisfied: python-dateutil in c:\\users\\bhagr\\anaconda3\\lib\\site-packages (from streamlit) (2.8.1)\n",
      "Requirement already satisfied: pandas>=0.21.0 in c:\\users\\bhagr\\anaconda3\\lib\\site-packages (from streamlit) (1.2.4)\n",
      "Requirement already satisfied: requests>=2.4 in c:\\users\\bhagr\\anaconda3\\lib\\site-packages (from streamlit) (2.25.1)\n",
      "Requirement already satisfied: cachetools>=4.0 in c:\\users\\bhagr\\anaconda3\\lib\\site-packages (from streamlit) (5.2.0)\n",
      "Collecting protobuf<4,>=3.12\n",
      "  Using cached protobuf-3.20.3-cp38-cp38-win_amd64.whl (904 kB)\n",
      "Requirement already satisfied: numpy in c:\\users\\bhagr\\anaconda3\\lib\\site-packages (from streamlit) (1.20.1)\n",
      "Requirement already satisfied: typing-extensions>=3.10.0.0 in c:\\users\\bhagr\\anaconda3\\lib\\site-packages (from streamlit) (4.4.0)\n",
      "Requirement already satisfied: semver in c:\\users\\bhagr\\anaconda3\\lib\\site-packages (from streamlit) (2.13.0)\n",
      "Requirement already satisfied: rich>=10.11.0 in c:\\users\\bhagr\\anaconda3\\lib\\site-packages (from streamlit) (13.0.1)\n",
      "Requirement already satisfied: pyarrow>=4.0 in c:\\users\\bhagr\\anaconda3\\lib\\site-packages (from streamlit) (10.0.1)\n",
      "Requirement already satisfied: packaging>=14.1 in c:\\users\\bhagr\\anaconda3\\lib\\site-packages (from streamlit) (20.9)\n",
      "Requirement already satisfied: pydeck>=0.1.dev5 in c:\\users\\bhagr\\anaconda3\\lib\\site-packages (from streamlit) (0.8.0)\n",
      "Requirement already satisfied: pympler>=0.9 in c:\\users\\bhagr\\anaconda3\\lib\\site-packages (from streamlit) (1.0.1)\n",
      "Requirement already satisfied: tzlocal>=1.1 in c:\\users\\bhagr\\anaconda3\\lib\\site-packages (from streamlit) (4.2)\n",
      "Requirement already satisfied: gitpython!=3.1.19 in c:\\users\\bhagr\\anaconda3\\lib\\site-packages (from streamlit) (3.1.30)\n",
      "Requirement already satisfied: toolz in c:\\users\\bhagr\\anaconda3\\lib\\site-packages (from altair>=3.2.0->streamlit) (0.11.1)\n",
      "Requirement already satisfied: jinja2 in c:\\users\\bhagr\\anaconda3\\lib\\site-packages (from altair>=3.2.0->streamlit) (2.11.3)\n",
      "Requirement already satisfied: entrypoints in c:\\users\\bhagr\\anaconda3\\lib\\site-packages (from altair>=3.2.0->streamlit) (0.3)\n",
      "Requirement already satisfied: jsonschema>=3.0 in c:\\users\\bhagr\\anaconda3\\lib\\site-packages (from altair>=3.2.0->streamlit) (3.2.0)\n",
      "Requirement already satisfied: gitdb<5,>=4.0.1 in c:\\users\\bhagr\\anaconda3\\lib\\site-packages (from gitpython!=3.1.19->streamlit) (4.0.10)\n",
      "Requirement already satisfied: smmap<6,>=3.0.1 in c:\\users\\bhagr\\anaconda3\\lib\\site-packages (from gitdb<5,>=4.0.1->gitpython!=3.1.19->streamlit) (5.0.0)\n",
      "Requirement already satisfied: zipp>=0.5 in c:\\users\\bhagr\\anaconda3\\lib\\site-packages (from importlib-metadata>=1.4->streamlit) (3.4.1)\n",
      "Requirement already satisfied: attrs>=17.4.0 in c:\\users\\bhagr\\anaconda3\\lib\\site-packages (from jsonschema>=3.0->altair>=3.2.0->streamlit) (20.3.0)\n",
      "Requirement already satisfied: pyrsistent>=0.14.0 in c:\\users\\bhagr\\anaconda3\\lib\\site-packages (from jsonschema>=3.0->altair>=3.2.0->streamlit) (0.17.3)\n",
      "Requirement already satisfied: six>=1.11.0 in c:\\users\\bhagr\\anaconda3\\lib\\site-packages (from jsonschema>=3.0->altair>=3.2.0->streamlit) (1.15.0)\n",
      "Requirement already satisfied: setuptools in c:\\users\\bhagr\\anaconda3\\lib\\site-packages (from jsonschema>=3.0->altair>=3.2.0->streamlit) (52.0.0.post20210125)\n",
      "Requirement already satisfied: pyparsing>=2.0.2 in c:\\users\\bhagr\\anaconda3\\lib\\site-packages (from packaging>=14.1->streamlit) (2.4.7)\n",
      "Requirement already satisfied: pytz>=2017.3 in c:\\users\\bhagr\\anaconda3\\lib\\site-packages (from pandas>=0.21.0->streamlit) (2021.1)\n",
      "Requirement already satisfied: MarkupSafe>=0.23 in c:\\users\\bhagr\\anaconda3\\lib\\site-packages (from jinja2->altair>=3.2.0->streamlit) (1.1.1)\n",
      "Requirement already satisfied: idna<3,>=2.5 in c:\\users\\bhagr\\anaconda3\\lib\\site-packages (from requests>=2.4->streamlit) (2.10)\n",
      "Requirement already satisfied: chardet<5,>=3.0.2 in c:\\users\\bhagr\\anaconda3\\lib\\site-packages (from requests>=2.4->streamlit) (4.0.0)\n",
      "Requirement already satisfied: certifi>=2017.4.17 in c:\\users\\bhagr\\anaconda3\\lib\\site-packages (from requests>=2.4->streamlit) (2020.12.5)\n",
      "Requirement already satisfied: urllib3<1.27,>=1.21.1 in c:\\users\\bhagr\\anaconda3\\lib\\site-packages (from requests>=2.4->streamlit) (1.26.4)\n",
      "Requirement already satisfied: commonmark<0.10.0,>=0.9.0 in c:\\users\\bhagr\\anaconda3\\lib\\site-packages (from rich>=10.11.0->streamlit) (0.9.1)\n",
      "Requirement already satisfied: pygments<3.0.0,>=2.6.0 in c:\\users\\bhagr\\anaconda3\\lib\\site-packages (from rich>=10.11.0->streamlit) (2.8.1)\n",
      "Requirement already satisfied: pytz-deprecation-shim in c:\\users\\bhagr\\anaconda3\\lib\\site-packages (from tzlocal>=1.1->streamlit) (0.1.0.post0)\n",
      "Requirement already satisfied: tzdata in c:\\users\\bhagr\\anaconda3\\lib\\site-packages (from tzlocal>=1.1->streamlit) (2022.7)\n",
      "Requirement already satisfied: backports.zoneinfo in c:\\users\\bhagr\\anaconda3\\lib\\site-packages (from tzlocal>=1.1->streamlit) (0.2.1)\n",
      "Requirement already satisfied: decorator>=3.4.0 in c:\\users\\bhagr\\anaconda3\\lib\\site-packages (from validators>=0.2->streamlit) (5.0.6)\n",
      "Installing collected packages: protobuf\n",
      "  Attempting uninstall: protobuf\n",
      "    Found existing installation: protobuf 4.21.12\n",
      "    Uninstalling protobuf-4.21.12:\n",
      "      Successfully uninstalled protobuf-4.21.12\n",
      "Successfully installed protobuf-3.20.3\n",
      "Note: you may need to restart the kernel to use updated packages.\n"
     ]
    }
   ],
   "source": [
    "pip install streamlit"
   ]
  },
  {
   "cell_type": "code",
   "execution_count": 8,
   "id": "470e4b01",
   "metadata": {},
   "outputs": [
    {
     "name": "stdout",
     "output_type": "stream",
     "text": [
      "Requirement already satisfied: cleantext in c:\\users\\bhagr\\anaconda3\\lib\\site-packages (1.1.4)\n",
      "Requirement already satisfied: nltk in c:\\users\\bhagr\\anaconda3\\lib\\site-packages (from cleantext) (3.6.1)\n",
      "Requirement already satisfied: click in c:\\users\\bhagr\\anaconda3\\lib\\site-packages (from nltk->cleantext) (7.1.2)\n",
      "Requirement already satisfied: regex in c:\\users\\bhagr\\anaconda3\\lib\\site-packages (from nltk->cleantext) (2021.4.4)\n",
      "Requirement already satisfied: joblib in c:\\users\\bhagr\\anaconda3\\lib\\site-packages (from nltk->cleantext) (1.0.1)\n",
      "Requirement already satisfied: tqdm in c:\\users\\bhagr\\anaconda3\\lib\\site-packages (from nltk->cleantext) (4.59.0)\n",
      "Note: you may need to restart the kernel to use updated packages.\n"
     ]
    }
   ],
   "source": [
    "pip install cleantext"
   ]
  },
  {
   "cell_type": "code",
   "execution_count": 15,
   "id": "ca79a99a",
   "metadata": {},
   "outputs": [
    {
     "name": "stdout",
     "output_type": "stream",
     "text": [
      "Requirement already satisfied: protobuf in c:\\users\\bhagr\\anaconda3\\lib\\site-packages (4.21.12)\n",
      "Note: you may need to restart the kernel to use updated packages.\n"
     ]
    }
   ],
   "source": [
    "pip install --upgrade protobuf"
   ]
  },
  {
   "cell_type": "code",
   "execution_count": 10,
   "id": "81e073d2",
   "metadata": {},
   "outputs": [
    {
     "name": "stdout",
     "output_type": "stream",
     "text": [
      "Requirement already satisfied: textblob in c:\\users\\bhagr\\anaconda3\\lib\\site-packages (0.17.1)\n",
      "Requirement already satisfied: nltk>=3.1 in c:\\users\\bhagr\\anaconda3\\lib\\site-packages (from textblob) (3.6.1)\n",
      "Requirement already satisfied: tqdm in c:\\users\\bhagr\\anaconda3\\lib\\site-packages (from nltk>=3.1->textblob) (4.59.0)\n",
      "Requirement already satisfied: click in c:\\users\\bhagr\\anaconda3\\lib\\site-packages (from nltk>=3.1->textblob) (7.1.2)\n",
      "Requirement already satisfied: regex in c:\\users\\bhagr\\anaconda3\\lib\\site-packages (from nltk>=3.1->textblob) (2021.4.4)\n",
      "Requirement already satisfied: joblib in c:\\users\\bhagr\\anaconda3\\lib\\site-packages (from nltk>=3.1->textblob) (1.0.1)\n",
      "Note: you may need to restart the kernel to use updated packages.\n"
     ]
    }
   ],
   "source": [
    "pip install -U textblob"
   ]
  },
  {
   "cell_type": "code",
   "execution_count": 11,
   "id": "278814f6",
   "metadata": {},
   "outputs": [],
   "source": [
    "from textblob import TextBlob\n",
    "import pandas as pd\n",
    "import streamlit as st\n",
    "import cleantext"
   ]
  },
  {
   "cell_type": "code",
   "execution_count": 12,
   "id": "ed73acba",
   "metadata": {},
   "outputs": [
    {
     "name": "stderr",
     "output_type": "stream",
     "text": [
      "2023-01-07 22:01:06.929 \n",
      "  \u001b[33m\u001b[1mWarning:\u001b[0m to view this Streamlit app on a browser, run it with the following\n",
      "  command:\n",
      "\n",
      "    streamlit run C:\\Users\\bhagr\\anaconda3\\lib\\site-packages\\ipykernel_launcher.py [ARGUMENTS]\n"
     ]
    }
   ],
   "source": [
    "st.header('Sentiment Analysis')\n",
    "with st.expander('Analyze Text'):\n",
    "    text = st.text_input('Text here: ')\n",
    "    if text:\n",
    "        blob = TextBlob(text)\n",
    "        st.write('Polarity: ', round(blob.sentiment.polarity,2))\n",
    "        st.write('Subjectivity: ', round(blob.sentiment.subjectivity,2))\n",
    "\n",
    "\n",
    "    pre = st.text_input('Clean Text: ')\n",
    "    if pre:\n",
    "        st.write(cleantext.clean(pre, clean_all= False, extra_spaces=True ,\n",
    "                                 stopwords=True ,lowercase=True ,numbers=True , punct=True))\n",
    "\n",
    "with st.expander('Analyze CSV'):\n",
    "    upl = st.file_uploader('Upload file')\n",
    "\n",
    "    def score(x):\n",
    "        blob1 = TextBlob(x)\n",
    "        return blob1.sentiment.polarity\n",
    "\n",
    "#\n",
    "    def analyze(x):\n",
    "        if x >= 0.5:\n",
    "            return 'Positive'\n",
    "        elif x <= -0.5:\n",
    "            return 'Negative'\n",
    "        else:\n",
    "            return 'Neutral'\n",
    "\n",
    "#\n",
    "    if upl:\n",
    "        df = pd.read_excel(upl)\n",
    "        del df['Unnamed: 0']\n",
    "        df['score'] = df['tweets'].apply(score)\n",
    "        df['analysis'] = df['score'].apply(analyze)\n",
    "        st.write(df.head(10))\n",
    "\n",
    "        @st.cache\n",
    "        def convert_df(df):\n",
    "            # IMPORTANT: Cache the conversion to prevent computation on every rerun\n",
    "            return df.to_csv().encode('utf-8')\n",
    "\n",
    "        csv = convert_df(df)\n",
    "\n",
    "        st.download_button(\n",
    "            label=\"Download data as CSV\",\n",
    "            data=csv,\n",
    "            file_name='sentiment.csv',\n",
    "            mime='text/csv',\n",
    "        )"
   ]
  },
  {
   "cell_type": "code",
   "execution_count": 19,
   "id": "edb0dcd3",
   "metadata": {},
   "outputs": [
    {
     "ename": "SyntaxError",
     "evalue": "invalid syntax (<ipython-input-19-35815af7d4d4>, line 1)",
     "output_type": "error",
     "traceback": [
      "\u001b[1;36m  File \u001b[1;32m\"<ipython-input-19-35815af7d4d4>\"\u001b[1;36m, line \u001b[1;32m1\u001b[0m\n\u001b[1;33m    streamlit run project.py\u001b[0m\n\u001b[1;37m              ^\u001b[0m\n\u001b[1;31mSyntaxError\u001b[0m\u001b[1;31m:\u001b[0m invalid syntax\n"
     ]
    }
   ],
   "source": [
    "streamlit run project.py"
   ]
  },
  {
   "cell_type": "code",
   "execution_count": null,
   "id": "6fe60f2e",
   "metadata": {},
   "outputs": [],
   "source": []
  }
 ],
 "metadata": {
  "kernelspec": {
   "display_name": "Python 3",
   "language": "python",
   "name": "python3"
  },
  "language_info": {
   "codemirror_mode": {
    "name": "ipython",
    "version": 3
   },
   "file_extension": ".py",
   "mimetype": "text/x-python",
   "name": "python",
   "nbconvert_exporter": "python",
   "pygments_lexer": "ipython3",
   "version": "3.8.8"
  }
 },
 "nbformat": 4,
 "nbformat_minor": 5
}
